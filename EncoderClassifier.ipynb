{
 "cells": [
  {
   "cell_type": "markdown",
   "metadata": {},
   "source": [
    "**Imports**"
   ]
  },
  {
   "cell_type": "code",
   "execution_count": 1,
   "metadata": {},
   "outputs": [
    {
     "name": "stderr",
     "output_type": "stream",
     "text": [
      "/arca-scratch/aifa/anaconda/envs/airsense_env_tsai_031/lib/python3.9/site-packages/tqdm/auto.py:21: TqdmWarning: IProgress not found. Please update jupyter and ipywidgets. See https://ipywidgets.readthedocs.io/en/stable/user_install.html\n",
      "  from .autonotebook import tqdm as notebook_tqdm\n"
     ]
    }
   ],
   "source": [
    "# wiesel : airsense_env_tsai_031\n",
    "from imports import * \n",
    "from functions import *\n",
    "from archs import *\n",
    "from mylearner import *\n",
    "%matplotlib inline\n",
    "# %load_ext tensorboard"
   ]
  },
  {
   "cell_type": "markdown",
   "metadata": {},
   "source": [
    "**Loading annotated data**"
   ]
  },
  {
   "cell_type": "code",
   "execution_count": 2,
   "metadata": {},
   "outputs": [
    {
     "name": "stdout",
     "output_type": "stream",
     "text": [
      "data shape: (64171, 23)\n",
      "        oxygen      pm10     co  temperature    co2    so2    no2       pm1  \\\n",
      "0      20.936  0.548238  1.562       24.276  455.7  -1.96  23.93  0.396847   \n",
      "1      20.938  0.678546  1.562       24.274  454.4  -2.06  23.90  0.375806   \n",
      "2      20.937  0.788452  1.562       24.273  454.5  -2.39  23.96  0.447566   \n",
      "3      20.937  0.890764  1.562       24.271  454.5  -2.69  23.87  0.558607   \n",
      "4      20.937  0.844628  1.562       24.268  455.0  -2.83  23.90  0.570323   \n",
      "...       ...       ...    ...          ...    ...    ...    ...       ...   \n",
      "44440  20.233  1.471562  1.472       18.350  448.2  25.15  23.51  1.103393   \n",
      "44441  20.234  1.476924  1.472       18.350  448.3  25.02  23.44  1.049043   \n",
      "44442  20.233  1.373389  1.472       18.351  449.4  25.04  23.49  1.043940   \n",
      "44443  20.233  1.454923  1.472       18.350  448.8  25.06  23.57  1.065992   \n",
      "44444  20.233  1.249064  1.471       18.348  449.2  24.99  23.69  1.031303   \n",
      "\n",
      "        dewpt      timestamp  ...     o3  humidity  humidity_abs     sound  \\\n",
      "0      13.985  1664150410000  ...  17.96    52.009        11.546  21.94292   \n",
      "1      13.983  1664150529000  ...  18.00    52.006        11.544  21.73989   \n",
      "2      13.997  1664150647000  ...  18.06    52.056        11.554  21.70284   \n",
      "3      13.996  1664150772000  ...  18.07    52.060        11.554  21.68667   \n",
      "4      13.995  1664150891000  ...  18.00    52.066        11.553  21.76809   \n",
      "...       ...            ...  ...    ...       ...           ...       ...   \n",
      "44440   7.970  1669592907000  ...  10.42    50.163         7.899  19.48630   \n",
      "44441   7.970  1669593026000  ...  10.37    50.163         7.899  20.00779   \n",
      "44442   7.971  1669593150000  ...  10.37    50.162         7.899  19.62563   \n",
      "44443   7.970  1669593269000  ...  10.36    50.162         7.899  19.67585   \n",
      "44444   7.969  1669593389000  ...  10.32    50.163         7.898  19.47027   \n",
      "\n",
      "          pm2_5                  datetime                          deviceid  \\\n",
      "0      0.457518 2022-09-26 00:00:10+00:00  a2055772251a41b9f8bd24c66b89a09b   \n",
      "1      0.427543 2022-09-26 00:02:09+00:00  a2055772251a41b9f8bd24c66b89a09b   \n",
      "2      0.572688 2022-09-26 00:04:07+00:00  a2055772251a41b9f8bd24c66b89a09b   \n",
      "3      0.648710 2022-09-26 00:06:12+00:00  a2055772251a41b9f8bd24c66b89a09b   \n",
      "4      0.644211 2022-09-26 00:08:11+00:00  a2055772251a41b9f8bd24c66b89a09b   \n",
      "...         ...                       ...                               ...   \n",
      "44440  1.257664 2022-11-27 23:48:27+00:00  a2055772251a41b9f8bd24c66b89a09b   \n",
      "44441  1.122220 2022-11-27 23:50:26+00:00  a2055772251a41b9f8bd24c66b89a09b   \n",
      "44442  1.210747 2022-11-27 23:52:30+00:00  a2055772251a41b9f8bd24c66b89a09b   \n",
      "44443  1.145115 2022-11-27 23:54:29+00:00  a2055772251a41b9f8bd24c66b89a09b   \n",
      "44444  1.068833 2022-11-27 23:56:29+00:00  a2055772251a41b9f8bd24c66b89a09b   \n",
      "\n",
      "       h2s person window_open  \n",
      "0      NaN      0           0  \n",
      "1      NaN      0           0  \n",
      "2      NaN      0           0  \n",
      "3      NaN      0           0  \n",
      "4      NaN      0           0  \n",
      "...    ...    ...         ...  \n",
      "44440  NaN      0           0  \n",
      "44441  NaN      0           0  \n",
      "44442  NaN      0           0  \n",
      "44443  NaN      0           0  \n",
      "44444  NaN      0           0  \n",
      "\n",
      "[44445 rows x 23 columns]\n"
     ]
    }
   ],
   "source": [
    "from loading_data import *"
   ]
  },
  {
   "cell_type": "markdown",
   "metadata": {},
   "source": [
    "**Encode target classes (person and window open) classes**"
   ]
  },
  {
   "cell_type": "code",
   "execution_count": 3,
   "metadata": {},
   "outputs": [
    {
     "name": "stdout",
     "output_type": "stream",
     "text": [
      "0    18144\n",
      "1     1440\n",
      "2      139\n",
      "4        2\n",
      "3        1\n",
      "Name: person, dtype: int64\n",
      "0    18701\n",
      "1     1025\n",
      "Name: window_open, dtype: int64\n",
      "(19726, 23)\n",
      "0    43791\n",
      "1      604\n",
      "2       50\n",
      "Name: person, dtype: int64\n",
      "0    44156\n",
      "1      289\n",
      "Name: window_open, dtype: int64\n",
      "(44445, 23)\n",
      "0    61935\n",
      "1     2044\n",
      "2      189\n",
      "4        2\n",
      "3        1\n",
      "Name: person, dtype: int64\n",
      "0    62857\n",
      "1     1314\n",
      "Name: window_open, dtype: int64\n",
      "(64171, 23)\n"
     ]
    }
   ],
   "source": [
    "df1 = encode_classes(d1)\n",
    "df2 = encode_classes(d2)\n",
    "df = encode_classes(data)"
   ]
  },
  {
   "cell_type": "markdown",
   "metadata": {},
   "source": [
    "**filtering data**"
   ]
  },
  {
   "cell_type": "code",
   "execution_count": 4,
   "metadata": {},
   "outputs": [],
   "source": [
    "# h2s column has only NaN values, also drop timestamp,datetime,deviceid\n",
    "df.drop(columns=['h2s','timestamp','deviceid'],inplace=True)\n",
    "df1.drop(columns=['h2s','timestamp','deviceid'],inplace=True)\n",
    "df2.drop(columns=['h2s','timestamp','deviceid'],inplace=True)"
   ]
  },
  {
   "cell_type": "markdown",
   "metadata": {},
   "source": [
    "**Missing values, drop NAN**"
   ]
  },
  {
   "cell_type": "code",
   "execution_count": 5,
   "metadata": {},
   "outputs": [
    {
     "data": {
      "image/png": "[encoded data removed]",
      "text/plain": [
       "<Figure size 640x480 with 1 Axes>"
      ]
     },
     "metadata": {},
     "output_type": "display_data"
    },
    {
     "name": "stdout",
     "output_type": "stream",
     "text": [
      "maximum number of missing values per column=  20 \n",
      "\n",
      "   column  count  percentage\n",
      "12     o3     20    0.101389\n",
      "5     so2     20    0.101389\n",
      "6     no2     20    0.101389\n",
      "2      co     14    0.070972\n",
      "9    tvoc      1    0.005069\n"
     ]
    },
    {
     "data": {
      "image/png": "[encoded data removed]",
      "text/plain": [
       "<Figure size 640x480 with 1 Axes>"
      ]
     },
     "metadata": {},
     "output_type": "display_data"
    },
    {
     "name": "stdout",
     "output_type": "stream",
     "text": [
      "maximum number of missing values per column=  nan \n",
      "\n",
      "Empty DataFrame\n",
      "Columns: [column, count, percentage]\n",
      "Index: []\n"
     ]
    }
   ],
   "source": [
    "plot_missing(df1)\n",
    "plot_missing(df2)\n",
    "\n",
    "#### substitute NaN values with mean \n",
    "## polynomial interpolation with degree > 1 uses index, also convert dtype to float to work\n",
    "df1 = impute_NaN(df1)\n",
    "df2 = impute_NaN(df2)\n",
    "############## conmbine into df \n",
    "\n",
    "df = concat(df1,df2)\n",
    "df.columns=df1.columns\n",
    "\n",
    "### drop datetime column and store it before for visualization\n",
    "datetime_df = df.datetime\n",
    "datetime_df1 = df1.datetime\n",
    "datetime_df2 = df2.datetime\n",
    "\n",
    "df.drop(columns=['datetime'],inplace=True)\n",
    "df1.drop(columns=['datetime'],inplace=True)\n",
    "df2.drop(columns=['datetime'],inplace=True)\n",
    "\n"
   ]
  },
  {
   "cell_type": "markdown",
   "metadata": {},
   "source": [
    "**minimized dataset for our classification task, drop  rows for testing**"
   ]
  },
  {
   "cell_type": "code",
   "execution_count": 6,
   "metadata": {},
   "outputs": [
    {
     "name": "stdout",
     "output_type": "stream",
     "text": [
      "0    61915\n",
      "1     2044\n",
      "2      189\n",
      "4        2\n",
      "3        1\n",
      "Name: person, dtype: int64 \n",
      " 0    62837\n",
      "1     1314\n",
      "Name: window_open, dtype: int64 \n",
      "\n",
      "0    61915\n",
      "1     2236\n",
      "Name: person, dtype: int64 \n",
      " 0    62837\n",
      "1     1314\n",
      "Name: window_open, dtype: int64 \n",
      "\n",
      "(19706, 11) \n",
      " 0    18124\n",
      "1     1582\n",
      "Name: person, dtype: int64 \n",
      " 0    18681\n",
      "1     1025\n",
      "Name: window_open, dtype: int64 \n",
      "\n",
      "(22445, 11) \n",
      " 0    21852\n",
      "1      593\n",
      "Name: person, dtype: int64 \n",
      " 0    22206\n",
      "1      239\n",
      "Name: window_open, dtype: int64 \n",
      "\n",
      "(300, 11) \n",
      " 0    245\n",
      "1     55\n",
      "Name: person, dtype: int64 \n",
      " 0    259\n",
      "1     41\n",
      "Name: window_open, dtype: int64 \n",
      "\n",
      "(64151, 11) \n",
      " 0    61915\n",
      "1     2236\n",
      "Name: person, dtype: int64 \n",
      " 0    62837\n",
      "1     1314\n",
      "Name: window_open, dtype: int64 \n",
      "\n"
     ]
    }
   ],
   "source": [
    "\n",
    "print(df['person'].value_counts(),'\\n',df['window_open'].value_counts(),'\\n')\n",
    "\n",
    "#### combine classes of more than 1 person to 1 person as there exists too little of them\n",
    "lc = df.loc[lambda x: x['person'] > 1]\n",
    "df.loc[lc.index,'person'] = 1\n",
    "\n",
    "lc = df1.loc[lambda x: x['person'] > 1]\n",
    "df1.loc[lc.index,'person'] = 1\n",
    "\n",
    "lc = df2.loc[lambda x: x['person'] > 1]\n",
    "df2.loc[lc.index,'person'] = 1\n",
    "\n",
    "print(df['person'].value_counts(),'\\n',df['window_open'].value_counts(),'\\n')\n",
    "\n",
    "\n",
    "############### drop  rows for testing\n",
    "### november (one month) for testing\n",
    "df2_test = df2.iloc[df2.shape[0]-22000:df2.shape[0]-21700] ## to get better visualization on less focused data\n",
    "datetime_test = datetime_df2.iloc[datetime_df2.shape[0]-22000:datetime_df2.shape[0]-21700]\n",
    "df2 = df2.drop(index = df2.index[df2.shape[0]-22000:]) ### to keep the sequence order drop from last\n",
    "datetime_df2 = datetime_df2.drop(index = datetime_df2.index[datetime_df2.shape[0]-22000:])\n",
    "\n",
    "\n",
    "### for visualization\n",
    "datetime_train = concat(datetime_df1,datetime_df2)\n",
    "df_train = concat(df1,df2)\n",
    "df_train.columns=df1.columns\n",
    "\n",
    "# df2.reset_index(drop=True,inplace=True)\n",
    "# df2_test.reset_index(drop=True,inplace=True)\n",
    "\n",
    "df2_test_targets = df2_test.filter(['person','window_open'])\n",
    "df2_test_features = df2_test.drop(columns=['person','window_open']) \n",
    "\n",
    "\n",
    "\n",
    "\n",
    "targets = df.filter(['person','window_open'])\n",
    "features = df.drop(columns=['person','window_open']) \n",
    "\n",
    "\n",
    "targets1 = df1.filter(['person','window_open'])\n",
    "features1 = df1.drop(columns=['person','window_open']) \n",
    "\n",
    "targets2 = df2.filter(['person','window_open'])\n",
    "features2 = df2.drop(columns=['person','window_open']) \n",
    "\n",
    "\n",
    "\n",
    "### minimized data\n",
    "l_ = ['humidity','temperature','tvoc','oxygen','co2','co','pressure','o3','sound','person','window_open']\n",
    "f_ = ['humidity','temperature','tvoc','oxygen','co2','co','pressure','o3','sound']\n",
    "### from leipzig data\n",
    "# l_ = ['humidity_abs','temperature','tvoc','oxygen','co2','co','no2','o3','person','window_open']\n",
    "# f_ = ['humidity_abs','temperature','tvoc','oxygen','co2','co','no2','o3']\n",
    "\n",
    "df_mini1 = df1.filter(l_)\n",
    "print(df_mini1.shape,'\\n',df_mini1['person'].value_counts(),'\\n',df_mini1['window_open'].value_counts(),'\\n')\n",
    "features_mini1 = features1.filter(f_)\n",
    "# print(targets1.iloc[:,0].value_counts())\n",
    "\n",
    "df_mini2 = df2.filter(l_)\n",
    "print(df_mini2.shape,'\\n',df_mini2['person'].value_counts(),'\\n',df_mini2['window_open'].value_counts(),'\\n')\n",
    "features_mini2 = features2.filter(f_)\n",
    "# print(targets2.iloc[:,0].value_counts())\n",
    "\n",
    "df2_test_mini = df2_test.filter(l_)\n",
    "print(df2_test_mini.shape,'\\n',df2_test_mini['person'].value_counts(),'\\n',df2_test_mini['window_open'].value_counts(),'\\n')\n",
    "df2_test_features_mini = df2_test_features.filter(f_)\n",
    "\n",
    "## whole df\n",
    "df_mini = df.filter(l_)\n",
    "print(df_mini.shape,'\\n',df_mini['person'].value_counts(),'\\n',df_mini['window_open'].value_counts(),'\\n')\n",
    "features_mini = features.filter(f_)\n",
    "# print(targets2.iloc[:,0].value_counts())\n"
   ]
  },
  {
   "cell_type": "markdown",
   "metadata": {},
   "source": [
    "**Perform undersampling and segmentation**"
   ]
  },
  {
   "cell_type": "markdown",
   "metadata": {},
   "source": [
    "read yaml config file"
   ]
  },
  {
   "cell_type": "code",
   "execution_count": 7,
   "metadata": {},
   "outputs": [
    {
     "ename": "FileNotFoundError",
     "evalue": "[Errno 2] No such file or directory: 'config.yaml'",
     "output_type": "error",
     "traceback": [
      "\u001b[0;31m---------------------------------------------------------------------------\u001b[0m",
      "\u001b[0;31mFileNotFoundError\u001b[0m                         Traceback (most recent call last)",
      "Cell \u001b[0;32mIn[7], line 1\u001b[0m\n\u001b[0;32m----> 1\u001b[0m \u001b[39mwith\u001b[39;00m \u001b[39mopen\u001b[39;49m(\u001b[39m'\u001b[39;49m\u001b[39mconfig.yaml\u001b[39;49m\u001b[39m'\u001b[39;49m) \u001b[39mas\u001b[39;00m f:\n\u001b[1;32m      2\u001b[0m     hyperparams \u001b[39m=\u001b[39m yaml\u001b[39m.\u001b[39mload(f,SafeLoader)\n\u001b[1;32m      4\u001b[0m under_window \u001b[39m=\u001b[39m hyperparams[\u001b[39m'\u001b[39m\u001b[39msample_segment\u001b[39m\u001b[39m'\u001b[39m][\u001b[39m'\u001b[39m\u001b[39munder_window\u001b[39m\u001b[39m'\u001b[39m]\n",
      "File \u001b[0;32m/arca-scratch/aifa/anaconda/envs/airsense_env_tsai_031/lib/python3.9/site-packages/IPython/core/interactiveshell.py:282\u001b[0m, in \u001b[0;36m_modified_open\u001b[0;34m(file, *args, **kwargs)\u001b[0m\n\u001b[1;32m    275\u001b[0m \u001b[39mif\u001b[39;00m file \u001b[39min\u001b[39;00m {\u001b[39m0\u001b[39m, \u001b[39m1\u001b[39m, \u001b[39m2\u001b[39m}:\n\u001b[1;32m    276\u001b[0m     \u001b[39mraise\u001b[39;00m \u001b[39mValueError\u001b[39;00m(\n\u001b[1;32m    277\u001b[0m         \u001b[39mf\u001b[39m\u001b[39m\"\u001b[39m\u001b[39mIPython won\u001b[39m\u001b[39m'\u001b[39m\u001b[39mt let you open fd=\u001b[39m\u001b[39m{\u001b[39;00mfile\u001b[39m}\u001b[39;00m\u001b[39m by default \u001b[39m\u001b[39m\"\u001b[39m\n\u001b[1;32m    278\u001b[0m         \u001b[39m\"\u001b[39m\u001b[39mas it is likely to crash IPython. If you know what you are doing, \u001b[39m\u001b[39m\"\u001b[39m\n\u001b[1;32m    279\u001b[0m         \u001b[39m\"\u001b[39m\u001b[39myou can use builtins\u001b[39m\u001b[39m'\u001b[39m\u001b[39m open.\u001b[39m\u001b[39m\"\u001b[39m\n\u001b[1;32m    280\u001b[0m     )\n\u001b[0;32m--> 282\u001b[0m \u001b[39mreturn\u001b[39;00m io_open(file, \u001b[39m*\u001b[39;49margs, \u001b[39m*\u001b[39;49m\u001b[39m*\u001b[39;49mkwargs)\n",
      "\u001b[0;31mFileNotFoundError\u001b[0m: [Errno 2] No such file or directory: 'config.yaml'"
     ]
    }
   ],
   "source": [
    "with open('config.yaml') as f:\n",
    "    hyperparams = yaml.load(f,SafeLoader)\n",
    "    \n",
    "under_window = hyperparams['sample_segment']['under_window']\n",
    "seq_len = hyperparams['sample_segment']['seq_len']\n",
    "stride = hyperparams['sample_segment']['stride']\n",
    "sliding_mode = hyperparams['sample_segment']['sliding_mode']\n",
    "all_features = hyperparams['sample_segment']['all_features']"
   ]
  },
  {
   "cell_type": "markdown",
   "metadata": {},
   "source": [
    "under sample and segment"
   ]
  },
  {
   "cell_type": "code",
   "execution_count": null,
   "metadata": {},
   "outputs": [],
   "source": [
    "## undersampling and sliding\n",
    "sampling = hyperparams['sample_segment']['sampling']\n",
    "if sampling:\n",
    "\n",
    "    X1,y1= under_sample(df1,under_window,seq_len,stride,sliding_mode=sliding_mode)\n",
    "    X2,y2= under_sample(df2,under_window,seq_len,stride,sliding_mode=sliding_mode)\n",
    "else:\n",
    "\n",
    "    X1,y1= sliding(seq_len,stride,features1,targets1,mode=sliding_mode)\n",
    "    X2,y2= sliding(seq_len,stride,features2,targets2,mode=sliding_mode)\n",
    "\n",
    "\n",
    "\n",
    "X = concat(X1,X2)\n",
    "y = concat(y1,y2)\n",
    "X.shape, y.shape\n"
   ]
  },
  {
   "cell_type": "markdown",
   "metadata": {},
   "source": [
    "**splitting sets and standardization**"
   ]
  },
  {
   "cell_type": "markdown",
   "metadata": {},
   "source": [
    "**using sklearn**"
   ]
  },
  {
   "cell_type": "code",
   "execution_count": null,
   "metadata": {},
   "outputs": [],
   "source": [
    "###### splitting\n",
    "# splits = TrainValidTestSplitter(valid_size=0.2,test_size=0.1)(y) ##### we have test set here\n",
    "splits = TrainValidTestSplitter(valid_size=0.1)(y) ##### we DON'T have test set here\n",
    "x_train = np.zeros(X[splits[0]].shape,dtype=np.float32)\n",
    "y_train = y[splits[0]]\n",
    "x_valid = np.zeros(X[splits[1]].shape,dtype=np.float32)\n",
    "y_valid = y[splits[1]]\n",
    "#### if splitted\n",
    "# x_test = np.zeros(X[splits[2]].shape,dtype=np.float32)\n",
    "# y_test = y[splits[2]]\n",
    "\n",
    "#different test set\n",
    "### uses stride = 1 to check all time points\n",
    "x_test_, y_test = sliding(seq_len,1,df2_test_features,df2_test_targets,mode=sliding_mode)\n",
    "x_test = np.zeros(x_test_.shape,dtype=np.float32) \n",
    "#################\n",
    "\n",
    "\n",
    "\n",
    "#### standardization\n",
    "scalers = {}\n",
    "for i in range(x_train.shape[1]): ## n_features\n",
    "    scalers[i] = StandardScaler()\n",
    "    scalers[i].fit(np.unique((X[splits[0]])[:, i, :]).reshape(-1,1)) ### as we have overlapping samples\n",
    "    x_train[:, i, :] = scalers[i].transform((X[splits[0]])[:, i, :].reshape(-1,1)).reshape(x_train.shape[0],x_train.shape[-1])\n",
    "    x_valid[:, i, :] = scalers[i].transform((X[splits[1]])[:, i, :].reshape(-1,1)).reshape(x_valid.shape[0],x_valid.shape[-1])\n",
    "    # x_test[:, i, :] = scalers[i].transform((X[splits[2]])[:, i, :].reshape(-1,1)).reshape(x_test.shape[0],x_test.shape[-1]) ## from splitting\n",
    "    x_test[:, i, :] = scalers[i].transform((x_test_)[:, i, :].reshape(-1,1)).reshape(x_test.shape[0],x_test.shape[-1]) ## test set from outside\n",
    "print(x_train.shape,x_valid.shape,x_test.shape)"
   ]
  },
  {
   "cell_type": "markdown",
   "metadata": {},
   "source": [
    "**tsai LEARNER**"
   ]
  },
  {
   "cell_type": "markdown",
   "metadata": {},
   "source": [
    "read config file"
   ]
  },
  {
   "cell_type": "code",
   "execution_count": null,
   "metadata": {},
   "outputs": [],
   "source": [
    "with open('config.yaml') as f:\n",
    "    hyperparams = yaml.load(f,SafeLoader)\n",
    "\n",
    "epochs = hyperparams['model']['epochs']\n",
    "bs = hyperparams['model']['bs']\n",
    "num_workers = hyperparams['model']['num_workers']\n",
    "embed_size = hyperparams['model']['embed_size']"
   ]
  },
  {
   "attachments": {},
   "cell_type": "markdown",
   "metadata": {},
   "source": [
    "**get pretrained encoder  TODO EncoderClassifier vs AutoEncoder ?! **"
   ]
  },
  {
   "cell_type": "code",
   "execution_count": null,
   "metadata": {},
   "outputs": [],
   "source": [
    "\n",
    "new_autoencoder = AutoEncoder(x_train.shape[1],embed_size=embed_size)\n",
    "pretrained_encoder = False\n",
    "\n",
    "if pretrained_encoder:\n",
    "    pretrained_dict = torch.load(f'/afs/tu-chemnitz.de/home/urz/a/abom/internship/models/{AutoEncoder.__name__}_{seq_len}_shuffled_{embed_size}.pt')\n",
    "    new_autoencoder.load_state_dict(pretrained_dict)\n",
    "\n",
    "### get ptrtrained encoder\n",
    "enc = new_autoencoder.encoder"
   ]
  },
  {
   "attachments": {},
   "cell_type": "markdown",
   "metadata": {},
   "source": [
    "**Train [note freezing the encoder before fitting]**"
   ]
  },
  {
   "cell_type": "code",
   "execution_count": null,
   "metadata": {},
   "outputs": [],
   "source": [
    "######## remove sigmoid from the network*****************\n",
    "\n",
    "# tfms  = [None, Categorize()] ## single label\n",
    "tfms  = [None, MultiCategorize()] ## multi label\n",
    "batch_tfms = TSStandardize()\n",
    "\n",
    "## single label\n",
    "# tsets = TSDatasets(x_train, y_train[:,0], tfms=tfms, inplace=True)\n",
    "# vsets = TSDatasets(x_valid, y_valid[:,0], tfms=tfms, inplace=True)\n",
    "## multi label\n",
    "tsets = TSDatasets(x_train, y_train, tfms=tfms, inplace=True)\n",
    "vsets = TSDatasets(x_valid, y_valid, tfms=tfms, inplace=True)\n",
    "######################\n",
    "dls   = TSDataLoaders.from_dsets(tsets, vsets, bs = bs, num_workers=num_workers) ### note the normalization\n",
    "\n",
    "\n",
    "#############################################################\n",
    "\n",
    "k={'encoder':enc,'n_neurons':100, 'embed_size':embed_size,'fc_dropout':0.5}\n",
    "network = f'EncoderClassifier, embedding size = {embed_size}'\n",
    "model = create_model(EncoderClassifier, dls.vars,dls.c,dls,**k)\n",
    "# learn = Learner(dls, model, metrics=accuracy,cbs = ShowGraph()) ### single label\n",
    "#### note the accuracy_multi and MultiCategorize() contains BCEwithlogits not normal BCE\n",
    "learn = Learner(dls, model, metrics=accuracy_multi,cbs = ShowGraph()) ### multi label\n",
    "##########################################################################3\n",
    "\n",
    "freeze(learn)  #### freeze encoder\n",
    "\n",
    "###########################################################################\n",
    "start = time.time()\n",
    "learn.fit_one_cycle(epochs,learn.lr_find().valley,cbs = EarlyStoppingCallback(monitor='valid_loss', min_delta=0.00001, patience=5)) ## learning rate annealing\n",
    "elapsed = time.time()-start\n",
    "print(f'time= {elapsed}')\n",
    "print(f'No. of trainable parameters= {count_parameters(model)}')\n",
    "print(f'train loss = {learn.recorder.values[-1][0]}, valid loss = {learn.recorder.values[-1][1]}')\n",
    "plt.figure()\n",
    "plt.plot(learn.recorder.lrs)\n",
    "\n",
    "print(learn.loss_func)\n",
    "metrics = np.array(learn.recorder.values)\n",
    "\n",
    "# save the model as state dictionary \n",
    "torch.save(learn.model.state_dict(), f'{learn.model._get_name()}.pt')\n",
    "#### unfreeze encoder\n",
    "unfreeze(learn) \n"
   ]
  },
  {
   "attachments": {},
   "cell_type": "markdown",
   "metadata": {},
   "source": [
    "To read already available networks"
   ]
  },
  {
   "cell_type": "code",
   "execution_count": null,
   "metadata": {},
   "outputs": [],
   "source": [
    "# tfms  = [None, MultiCategorize()] ## multi label\n",
    "# batch_tfms = TSStandardize()\n",
    "\n",
    "# ## single label\n",
    "# # tsets = TSDatasets(x_train, y_train[:,0], tfms=tfms, inplace=True)\n",
    "# # vsets = TSDatasets(x_valid, y_valid[:,0], tfms=tfms, inplace=True)\n",
    "# ## multi label\n",
    "# tsets = TSDatasets(x_train, y_train, tfms=tfms, inplace=True)\n",
    "# vsets = TSDatasets(x_valid, y_valid, tfms=tfms, inplace=True)\n",
    "# ######################\n",
    "# dls   = TSDataLoaders.from_dsets(tsets, vsets, bs = bs, num_workers=num_workers)#,batch_tfms=batch_tfms) ### note the normalization\n",
    "\n",
    "# ### get encoderclassifier\n",
    "# k={'encoder':enc,'n_neurons':100, 'embed_size':embed_size}\n",
    "# network = f'EncoderClassifier, embedding size = {embed_size}'\n",
    "\n",
    "\n",
    "# # load \n",
    "# pretrained_dict = torch.load(f'/afs/tu-chemnitz.de/home/urz/a/abom/internship/models/{EncoderClassifier.__name__}.pt')\n",
    "# model = create_model(EncoderClassifier, dls.vars,dls.c,dls,**k)\n",
    "# model.load_state_dict(pretrained_dict)\n",
    "\n",
    "# # learn = Learner(dls, model, metrics=accuracy,cbs = ShowGraph()) ### single label\n",
    "# #### note the accuracy_multi and MultiCategorize() contains BCEwithlogits not normal BCE\n",
    "# learn = Learner(dls, model, metrics=accuracy_multi,cbs = ShowGraph()) ### multi label"
   ]
  },
  {
   "attachments": {},
   "cell_type": "markdown",
   "metadata": {},
   "source": [
    "**EVALUATION ON TEST DATA SET + Using PR curves**"
   ]
  },
  {
   "cell_type": "code",
   "execution_count": null,
   "metadata": {},
   "outputs": [],
   "source": [
    "#### Adding dataset to apply same dls valid tfms on test\n",
    "\n",
    "### standardize test set with train parameters (apply Multicategorize transform)\n",
    "test_set = TSDatasets(x_test, y_test, tfms=tfms, inplace=True) # multi_label\n",
    "# test_set = TSDatasets(x_test, y_test[:,0], tfms=tfms, inplace=True) # single_label\n",
    "test_dl   = TSDataLoader(test_set, bs = bs, num_workers=num_workers)#,batch_tfms=batch_tfms) ### note the normalization\n",
    "# next(iter(test_dl))\n",
    " \n",
    "\n",
    "#### evaluating\n",
    "\n",
    "test_probas, test_targets, test_preds = learn.get_preds(dl=test_dl,with_decoded=True)#,reorder = False)\n",
    "test_preds = test_preds.long() ### to convert bool to int\n",
    "\n",
    "###############################################################################################\n",
    "###### use PR curve to get best threshold for each class on given test set\n",
    "##############################################################################################\n",
    "# # # class person\n",
    "# # threshold_person, _ = plot_PR_curve('person',test_targets[:,0],test_probas[:,0])\n",
    "# # ### class window_open\n",
    "# # threshold_window, _ =plot_PR_curve('window',test_targets[:,1],test_probas[:,1])\n",
    "# threshold_person,threshold_window = plot_PR_curve_both(test_targets,test_probas)\n",
    "# test_preds[:,0] = (test_probas[:,0]>=threshold_person)\n",
    "# test_preds[:,1] = (test_probas[:,1]>=threshold_window)\n",
    "#################################################################################################\n",
    "\n",
    "## single label\n",
    "### number of classes in validation set\n",
    "# n_classes = pd.DataFrame(test_targets).value_counts().shape[0]\n",
    "# plot_confusion(test_targets,test_preds,n_classes,name = 'person')\n",
    "# print(f'Accuracy: {(test_targets == test_preds).float().mean():0.5f}')  \n",
    "# print(f'F1 score: {f1_score(test_targets,test_preds)}\\n') # to get f1 score for each class use (average=None)\n",
    "# print(f'precision: {precision_score(test_targets,test_preds)}\\n') \n",
    "# print(f'recall: {recall_score(test_targets,test_preds)}\\n') \n",
    "\n",
    "## multi label\n",
    "print(f'Accuracy [Both]: {(100/test_targets.shape[0])*torch.all((test_preds == test_targets),dim=1).sum():0.5f}') ## multi-label\n",
    "print(f'Accuracy [person]: {(100/test_targets.shape[0])*(test_preds[:,0] == test_targets[:,0]).sum():0.5f}') ## multi-label\n",
    "print(f'Accuracy [window_open]: {(100/test_targets.shape[0])*(test_preds[:,1] == test_targets[:,1]).sum():0.5f}') ## multi-label\n",
    "n_classes = test_targets.shape[1]\n",
    "\n",
    "## confusion matrices\n",
    "plot_confusion_both(test_targets,test_preds,n_classes)\n",
    "## person class\n",
    "# plot_confusion(test_targets[:,0],test_preds[:,0],n_classes,name = 'person')\n",
    "print(f'F1 score [person]: {f1_score(test_targets[:,0],test_preds[:,0])}\\n')\n",
    "print(f'precision [person]: {precision_score(test_targets[:,0],test_preds[:,0])}\\n') \n",
    "print(f'recall [person]: {recall_score(test_targets[:,0],test_preds[:,0])}\\n') \n",
    "\n",
    "### window class\n",
    "# plot_confusion(test_targets[:,1],test_preds[:,1],n_classes,name = 'window')\n",
    "print(f'F1 score [window]: {f1_score(test_targets[:,1],test_preds[:,1])}\\n') \n",
    "print(f'precision [window]: {precision_score(test_targets[:,1],test_preds[:,1])}\\n') \n",
    "print(f'recall [window]: {recall_score(test_targets[:,1],test_preds[:,1])}\\n') \n"
   ]
  },
  {
   "attachments": {},
   "cell_type": "markdown",
   "metadata": {},
   "source": [
    "**investigate distribution of wrong predictions, and smoothing** "
   ]
  },
  {
   "cell_type": "code",
   "execution_count": null,
   "metadata": {},
   "outputs": [],
   "source": [
    "#### single label\n",
    "# ## plot targets vs predictions person\n",
    "# plot_distribution(test_targets,test_preds,'person')\n",
    "# ## plot FP, FN \n",
    "# plot_fp_fn(test_targets,test_preds,'person')\n",
    "#############################################################################################################\n",
    "### smoothing\n",
    "# test_preds = smoothing_predictions(test_preds,2)\n",
    "###############################################################################################################\n",
    "#### multi label\n",
    "plot_distribution_both(test_targets,test_preds, network)\n"
   ]
  },
  {
   "cell_type": "markdown",
   "metadata": {},
   "source": [
    "**optuna for HP optimization**"
   ]
  },
  {
   "cell_type": "markdown",
   "metadata": {},
   "source": [
    "load yaml file"
   ]
  },
  {
   "cell_type": "code",
   "execution_count": null,
   "metadata": {},
   "outputs": [],
   "source": [
    "with open('config.yaml') as f:\n",
    "    hyperparams = yaml.load(f,SafeLoader)\n",
    "epochs = hyperparams['optuna']['epochs']\n",
    "optuna_trials = hyperparams['optuna']['trials']\n",
    "bs = hyperparams['model']['bs']\n",
    "num_workers = hyperparams['model']['num_workers']"
   ]
  },
  {
   "attachments": {},
   "cell_type": "markdown",
   "metadata": {},
   "source": [
    "optimize (notice freeze for autoencoder)"
   ]
  },
  {
   "cell_type": "code",
   "execution_count": null,
   "metadata": {},
   "outputs": [],
   "source": [
    "tfms  = [None, MultiCategorize()] \n",
    "batch_tfms = TSStandardize()\n",
    "\n",
    "\n",
    "tsets = TSDatasets(x_train, y_train, tfms=tfms, inplace=True)\n",
    "vsets = TSDatasets(x_test, y_test, tfms=tfms, inplace=True)\n",
    "dls   = TSDataLoaders.from_dsets(tsets, vsets, bs = bs, num_workers=num_workers)#,batch_tfms=batch_tfms) ### note the normalization\n",
    "\n",
    "\n",
    "def objective(trial:optuna.Trial):\n",
    "    # Define search space here. Supported search space are \n",
    "\n",
    "    lr = trial.suggest_float(\"Learning_rate\", 1e-8, 1e-6, log=True)\n",
    "\n",
    "    n_filters = trial.suggest_int('num_filters',50,150,step = 10)\n",
    "    # k={'encoder':enc,'n_neurons':100}\n",
    "    k={'encoder':enc,'n_neurons':n_filters, 'embed_size':embed_size,'fc_dropout':0.5}\n",
    "    model = create_model(EncoderClassifier, dls.vars,dls.c,dls,**k)\n",
    "    #### note the F1_multi and MultiCategorize() contains BCEwithlogits not normal BCE\n",
    "    learn = Learner(dls, model, metrics=F1_multi,lr=lr)\n",
    "\n",
    "    ####################################\n",
    "    freeze(learn) #### for autoencoder\n",
    "    ######################################\n",
    "    learn.fit_one_cycle(epochs,learn.lr_find().valley) ## learning rate annealing\n",
    "    \n",
    "    learn.plot_metrics()\n",
    "            \n",
    "    # return the F1 score - learn.recorder.values returns [[train_loss, valid_loss, F1_multi]]\n",
    "    return learn.recorder.values[-1][-1]\n",
    "\n",
    "    # return the valid_loss - learn.recorder.values returns [[train_loss, valid_loss, acc]]\n",
    "    # return learn.recorder.values[-1][1]"
   ]
  },
  {
   "cell_type": "code",
   "execution_count": null,
   "metadata": {},
   "outputs": [],
   "source": [
    "\n",
    "dat = dt.datetime.now().strftime(\"%Y%m%d_%H%M%S\")\n",
    "ae_folder = f'/scratch/aifa/MyRepo/SmartAirsense/internship/TimeSeriesClassification/Experiments/Autoencoder/{dat}'\n",
    "if not os.path.exists(ae_folder):\n",
    "    os.mkdir(ae_folder)\n",
    "    \n",
    "study = optuna.create_study(direction='maximize', \n",
    "                            pruner=optuna.pruners.HyperbandPruner(),\n",
    "                            storage=\"sqlite:///db.sqlite3\",  # Specify the storage URL here.\n",
    "                            study_name=f\"{dat}_Encoder_study\")\n",
    "\n",
    "\n",
    "\n",
    "study.optimize(objective, n_trials=optuna_trials, show_progress_bar=True)"
   ]
  },
  {
   "cell_type": "code",
   "execution_count": null,
   "metadata": {},
   "outputs": [],
   "source": [
    "print(\"Study statistics: \")\n",
    "print(\"  Number of finished trials: \", len(study.trials))\n",
    "\n",
    "print(\"Best trial:\")\n",
    "trial = study.best_trial\n",
    "\n",
    "print(\"  Value: \", trial.value)\n",
    "\n",
    "print(\"  Params: \")\n",
    "for key, value in trial.params.items():\n",
    "    print(\"    {}: {}\".format(key, value))"
   ]
  },
  {
   "cell_type": "code",
   "execution_count": null,
   "metadata": {},
   "outputs": [],
   "source": [
    "\n",
    "display(optuna.visualization.plot_optimization_history(study))\n",
    "display(optuna.visualization.plot_param_importances(study))\n",
    "display(optuna.visualization.plot_slice(study))\n",
    "display(optuna.visualization.plot_parallel_coordinate(study))"
   ]
  }
 ],
 "metadata": {
  "kernelspec": {
   "display_name": "airsense_env",
   "language": "python",
   "name": "python3"
  },
  "language_info": {
   "codemirror_mode": {
    "name": "ipython",
    "version": 3
   },
   "file_extension": ".py",
   "mimetype": "text/x-python",
   "name": "python",
   "nbconvert_exporter": "python",
   "pygments_lexer": "ipython3",
   "version": "3.9.7"
  },
  "vscode": {
   "interpreter": {
    "hash": "94cf76cf85553c7b9a14c1c8fafc95b4e781f4dc7651d74bc0dd1329c9745b2f"
   }
  }
 },
 "nbformat": 4,
 "nbformat_minor": 2
}
